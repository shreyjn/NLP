{
 "cells": [
  {
   "cell_type": "code",
   "execution_count": 106,
   "metadata": {},
   "outputs": [],
   "source": [
    "import nltk\n",
    "import numpy as np\n",
    "import pandas as pd\n",
    "import re\n",
    "import pickle"
   ]
  },
  {
   "cell_type": "code",
   "execution_count": 45,
   "metadata": {},
   "outputs": [],
   "source": [
    "from nltk.corpus import stopwords"
   ]
  },
  {
   "cell_type": "code",
   "execution_count": 46,
   "metadata": {},
   "outputs": [],
   "source": [
    "from sklearn.datasets import load_files"
   ]
  },
  {
   "cell_type": "code",
   "execution_count": 47,
   "metadata": {},
   "outputs": [],
   "source": [
    "reviews=load_files('C:\\\\Users\\\\User\\\\Downloads\\\\review_polarity\\\\txt_sentoken\\\\')"
   ]
  },
  {
   "cell_type": "code",
   "execution_count": 48,
   "metadata": {},
   "outputs": [],
   "source": [
    "X,y= reviews.data, reviews.target"
   ]
  },
  {
   "cell_type": "markdown",
   "metadata": {},
   "source": [
    "## PreProcessing"
   ]
  },
  {
   "cell_type": "code",
   "execution_count": 49,
   "metadata": {},
   "outputs": [],
   "source": [
    "corpus=[]\n",
    "for i in range(len(X)):\n",
    "    review=re.sub(r'\\W', ' ', str(X[i]))\n",
    "    review=review.lower()\n",
    "    review=re.sub(r'\\s+[a-z]\\s+', ' ', review)\n",
    "    review=re.sub(r'^[a-z]\\s+', ' ', review)\n",
    "    review=re.sub(r'\\s+', ' ', review)\n",
    "    corpus.append(review)"
   ]
  },
  {
   "cell_type": "markdown",
   "metadata": {},
   "source": [
    "## Bag Of Words Model"
   ]
  },
  {
   "cell_type": "code",
   "execution_count": 50,
   "metadata": {},
   "outputs": [],
   "source": [
    "from sklearn.feature_extraction.text import CountVectorizer"
   ]
  },
  {
   "cell_type": "code",
   "execution_count": 51,
   "metadata": {},
   "outputs": [],
   "source": [
    "# Excluding those words which appear in more than 60% of documents. \n",
    "# df=Document Frequency\n",
    "# 0.6 means 60%\n",
    "vector=CountVectorizer(max_features=2000, min_df=3, max_df=0.6, stop_words=stopwords.words('english'))"
   ]
  },
  {
   "cell_type": "code",
   "execution_count": 52,
   "metadata": {},
   "outputs": [],
   "source": [
    "X=vector.fit_transform(corpus).toarray()"
   ]
  },
  {
   "cell_type": "code",
   "execution_count": 53,
   "metadata": {},
   "outputs": [
    {
     "data": {
      "text/plain": [
       "array([[0, 0, 0, ..., 0, 0, 0],\n",
       "       [0, 0, 0, ..., 0, 0, 0],\n",
       "       [0, 0, 0, ..., 1, 0, 0],\n",
       "       ...,\n",
       "       [0, 0, 0, ..., 0, 0, 0],\n",
       "       [0, 0, 0, ..., 0, 0, 0],\n",
       "       [2, 0, 1, ..., 0, 0, 0]], dtype=int64)"
      ]
     },
     "execution_count": 53,
     "metadata": {},
     "output_type": "execute_result"
    }
   ],
   "source": [
    "X"
   ]
  },
  {
   "cell_type": "code",
   "execution_count": 54,
   "metadata": {},
   "outputs": [
    {
     "data": {
      "text/plain": [
       "(2000, 2000)"
      ]
     },
     "execution_count": 54,
     "metadata": {},
     "output_type": "execute_result"
    }
   ],
   "source": [
    "X.shape"
   ]
  },
  {
   "cell_type": "markdown",
   "metadata": {},
   "source": [
    "## TF-IDF Model"
   ]
  },
  {
   "cell_type": "code",
   "execution_count": 55,
   "metadata": {},
   "outputs": [],
   "source": [
    "from sklearn.feature_extraction.text import TfidfTransformer"
   ]
  },
  {
   "cell_type": "code",
   "execution_count": 56,
   "metadata": {},
   "outputs": [],
   "source": [
    "X=TfidfTransformer().fit_transform(X).toarray()"
   ]
  },
  {
   "cell_type": "code",
   "execution_count": 57,
   "metadata": {},
   "outputs": [
    {
     "name": "stderr",
     "output_type": "stream",
     "text": [
      "C:\\Users\\User\\Anaconda3\\lib\\site-packages\\sklearn\\model_selection\\_split.py:2026: FutureWarning: From version 0.21, test_size will always complement train_size unless both are specified.\n",
      "  FutureWarning)\n"
     ]
    }
   ],
   "source": [
    "from sklearn.model_selection import train_test_split\n",
    "X_train, X_test, y_train, y_test= train_test_split(X, y, train_size= 0.8, random_state=42)"
   ]
  },
  {
   "cell_type": "code",
   "execution_count": 58,
   "metadata": {},
   "outputs": [],
   "source": [
    "from sklearn.linear_model import LogisticRegression"
   ]
  },
  {
   "cell_type": "code",
   "execution_count": 59,
   "metadata": {},
   "outputs": [],
   "source": [
    "lr=LogisticRegression(C=2.3)"
   ]
  },
  {
   "cell_type": "code",
   "execution_count": 60,
   "metadata": {},
   "outputs": [
    {
     "data": {
      "text/plain": [
       "LogisticRegression(C=2.3, class_weight=None, dual=False, fit_intercept=True,\n",
       "          intercept_scaling=1, max_iter=100, multi_class='ovr', n_jobs=1,\n",
       "          penalty='l2', random_state=None, solver='liblinear', tol=0.0001,\n",
       "          verbose=0, warm_start=False)"
      ]
     },
     "execution_count": 60,
     "metadata": {},
     "output_type": "execute_result"
    }
   ],
   "source": [
    "lr.fit(X_train, y_train)"
   ]
  },
  {
   "cell_type": "code",
   "execution_count": 61,
   "metadata": {},
   "outputs": [],
   "source": [
    "y_pred= lr.predict(X_test)"
   ]
  },
  {
   "cell_type": "code",
   "execution_count": 62,
   "metadata": {},
   "outputs": [],
   "source": [
    "from sklearn.metrics import accuracy_score, confusion_matrix"
   ]
  },
  {
   "cell_type": "code",
   "execution_count": 63,
   "metadata": {},
   "outputs": [
    {
     "data": {
      "text/plain": [
       "0.85"
      ]
     },
     "execution_count": 63,
     "metadata": {},
     "output_type": "execute_result"
    }
   ],
   "source": [
    "accuracy_score(y_test, y_pred)"
   ]
  },
  {
   "cell_type": "code",
   "execution_count": 64,
   "metadata": {},
   "outputs": [
    {
     "data": {
      "text/plain": [
       "array([[160,  30],\n",
       "       [ 30, 180]], dtype=int64)"
      ]
     },
     "execution_count": 64,
     "metadata": {},
     "output_type": "execute_result"
    }
   ],
   "source": [
    "confusion_matrix(y_test, y_pred)"
   ]
  },
  {
   "cell_type": "code",
   "execution_count": 56,
   "metadata": {},
   "outputs": [],
   "source": [
    "# Pickling classifier\n",
    "# with open('classifier.pickle', 'wb') as f:\n",
    "#     pickle.dump(lr, f)"
   ]
  },
  {
   "cell_type": "code",
   "execution_count": 73,
   "metadata": {},
   "outputs": [],
   "source": [
    "from sklearn.feature_extraction.text import TfidfVectorizer\n",
    "vector2=TfidfVectorizer(max_features=2000, min_df=3, max_df=0.6, stop_words=stopwords.words('english'))"
   ]
  },
  {
   "cell_type": "code",
   "execution_count": 74,
   "metadata": {},
   "outputs": [],
   "source": [
    "X2= vector2.fit_transform(corpus).toarray()"
   ]
  },
  {
   "cell_type": "markdown",
   "metadata": {},
   "source": [
    "# Testing"
   ]
  },
  {
   "cell_type": "code",
   "execution_count": 81,
   "metadata": {},
   "outputs": [],
   "source": [
    "sample=['''Spirited Away' is the first Miyazaki I have seen, but from this stupendous film I can tell he is a master storyteller. \n",
    "A hallmark of a good storyteller is making the audience empathise or pull them into the shoes of the central character. \n",
    "Miyazaki does this brilliantly in 'Spirited Away'. During the first fifteen minutes we have no idea what is going on. Neither \n",
    "does the main character Chihiro. We discover the world as Chihiro does and it's truly amazing to watch. But Miyazaki doesn't seem \n",
    "to treat this world as something amazing. The world is filmed just like our workaday world would. The inhabitants of the world go\n",
    "about their daily business as usual as full with apathy as us normal folks. Places and buildings are not greeted by towering establishing \n",
    "shots and majestic music. The fact that this place is amazing doesn't seem to concern Miyazaki.\n",
    " \n",
    "What do however, are the characters. Miyazaki lingers upon the characters as if they were actors. He infixes his animated actors \n",
    "with such subtleties that I have never seen, even from animation giants Pixar. Twenty minutes into this film and I completely \n",
    "forgot these were animated characters; I started to care for them like they were living and breathing. \n",
    "Miyazaki treats the modest achievements of Chihiro with unashamed bombast. The uplifting scene where she cleanses the River God \n",
    "is accompanied by stirring music and is as exciting as watching gladiatorial combatants fight. Of course, by giving the audience \n",
    "developed characters to care about, the action and conflicts will always be more exciting, terrifying and uplifting than normal, \n",
    "generic action scenes.''']\n",
    "\n",
    "    \n",
    "\n",
    "    "
   ]
  },
  {
   "cell_type": "code",
   "execution_count": 82,
   "metadata": {},
   "outputs": [],
   "source": [
    "temp=[]\n",
    "for i in sample:\n",
    "    review=re.sub(r'\\W', ' ', i)\n",
    "    review=review.lower()\n",
    "    review=re.sub(r'\\s+[a-z]\\s+', ' ', review)\n",
    "    review=re.sub(r'^[a-z]\\s+', ' ', review)\n",
    "    review=re.sub(r'\\s+', ' ', review)\n",
    "    temp.append(review)"
   ]
  },
  {
   "cell_type": "code",
   "execution_count": 83,
   "metadata": {},
   "outputs": [
    {
     "data": {
      "text/plain": [
       "['spirited away is the first miyazaki have seen but from this stupendous film can tell he is master storyteller hallmark of good storyteller is making the audience empathise or pull them into the shoes of the central character miyazaki does this brilliantly in spirited away during the first fifteen minutes we have no idea what is going on neither does the main character chihiro we discover the world as chihiro does and it truly amazing to watch but miyazaki doesn seem to treat this world as something amazing the world is filmed just like our workaday world would the inhabitants of the world go about their daily business as usual as full with apathy as us normal folks places and buildings are not greeted by towering establishing shots and majestic music the fact that this place is amazing doesn seem to concern miyazaki what do however are the characters miyazaki lingers upon the characters as if they were actors he infixes his animated actors with such subtleties that have never seen even from animation giants pixar twenty minutes into this film and completely forgot these were animated characters started to care for them like they were living and breathing miyazaki treats the modest achievements of chihiro with unashamed bombast the uplifting scene where she cleanses the river god is accompanied by stirring music and is as exciting as watching gladiatorial combatants fight of course by giving the audience developed characters to care about the action and conflicts will always be more exciting terrifying and uplifting than normal generic action scenes ']"
      ]
     },
     "execution_count": 83,
     "metadata": {},
     "output_type": "execute_result"
    }
   ],
   "source": [
    "temp"
   ]
  },
  {
   "cell_type": "code",
   "execution_count": 84,
   "metadata": {},
   "outputs": [],
   "source": [
    "a=vector2.transform(temp).toarray()\n",
    "i=lr.predict(a)"
   ]
  },
  {
   "cell_type": "code",
   "execution_count": 85,
   "metadata": {},
   "outputs": [
    {
     "name": "stdout",
     "output_type": "stream",
     "text": [
      "positive\n"
     ]
    }
   ],
   "source": [
    "if i>0.5:\n",
    "    print('positive')\n",
    "else:\n",
    "    print('negative')"
   ]
  },
  {
   "cell_type": "markdown",
   "metadata": {},
   "source": [
    "## Loading from text file"
   ]
  },
  {
   "cell_type": "code",
   "execution_count": 122,
   "metadata": {},
   "outputs": [],
   "source": [
    "with open('C:\\\\Users\\\\User\\\\Desktop\\\\New Text Document (2).txt') as f:\n",
    "    data=f.read()\n",
    "    data=data.split('\\n\\n')"
   ]
  },
  {
   "cell_type": "code",
   "execution_count": 123,
   "metadata": {},
   "outputs": [
    {
     "data": {
      "text/plain": [
       "['1)You are fool and idiot useless.',\n",
       " '2)This app is really good and helpful..',\n",
       " '3)Rubbish movie . Rubbish screenplay worst storyline direction. Wastage of money and time . It suppose to be sardart payo. \\n  Dialogues  were rubbish. Please stop making this kind of rubbish movies. \\n  Otherwise in future nobody is going to watch films. Actors acting were thirdclass accept sanjay mishras.',\n",
       " \"4)Misery and Stand By Me were the best adaptations up until this one, now you can add Shawshank to that list.\\nThis is simply one of the best films ever made and I know I am not the first to say that and I certainly won't be the last. The standing on the IMDb is a true barometer of that. #3 as of this date and I'm sure it could be number 1. So I'll just skip all the normal praise of the film because we all know how great it is. But let me perhaps add that what I find so fascinating about Shawshank is that Stephen King wrote it.\\nKing is one of the best writers in the world. Books like IT and the Castle Rock series are some of the greatest stories ever told. But his best adaptations are always done by the best directors. The Shining was brilliantly interpreted by Kubrick and of course the aforementioned Misery and Stand By Me are both by Rob Reiner. Now Frank Darabont comes onto the scene and makes arguably the best King film ever. He seems to understand what King wants to say and he conveys that beautifully. \\nWhat makes this film one of the best ever made is the message it conveys. It is one of eternal hope. Andy Dufresne, played by Tim Robbins, has been sent to prison for a crime he did not commit. But he never loses hope. He never gives up his quest to become a free man again. His years of tenacity, patience and wits keep him not only sane, but it gives his mind and a spirit a will to live. This film has a different feel to it. There has never been anything like it before and I don't know if there will again.\\nI'm not going to say any more about this film, it has already been said, but just suffice to say that I am glad that Forrest Gump won best picture in 94. I would have been equally glad if Pulp Fiction or Shawshank would have won. It is that good of a movie and one that will be appreciated for years to come.\",\n",
       " '5)I am a good man.']"
      ]
     },
     "execution_count": 123,
     "metadata": {},
     "output_type": "execute_result"
    }
   ],
   "source": [
    "data"
   ]
  },
  {
   "cell_type": "code",
   "execution_count": 124,
   "metadata": {},
   "outputs": [],
   "source": [
    "temp2=[]\n",
    "for i in data:\n",
    "    review2=re.sub(r'\\W', ' ', i)\n",
    "    review2=review2.lower()\n",
    "    review2=re.sub(r'\\s+[a-z]\\s+', ' ', review2)\n",
    "    review2=re.sub(r'^[a-z]\\s+', ' ', review2)\n",
    "    review2=re.sub(r'\\s+', ' ', review2)\n",
    "    review2=re.sub(r'\\d', '', review2)\n",
    "    temp2.append([review2])"
   ]
  },
  {
   "cell_type": "code",
   "execution_count": 125,
   "metadata": {},
   "outputs": [
    {
     "data": {
      "text/plain": [
       "[[' you are fool and idiot useless '],\n",
       " [' this app is really good and helpful '],\n",
       " [' rubbish movie rubbish screenplay worst storyline direction wastage of money and time it suppose to be sardart payo dialogues were rubbish please stop making this kind of rubbish movies otherwise in future nobody is going to watch films actors acting were thirdclass accept sanjay mishras '],\n",
       " [' misery and stand by me were the best adaptations up until this one now you can add shawshank to that list this is simply one of the best films ever made and know am not the first to say that and certainly won be the last the standing on the imdb is true barometer of that  as of this date and m sure it could be number  so ll just skip all the normal praise of the film because we all know how great it is but let me perhaps add that what find so fascinating about shawshank is that stephen king wrote it king is one of the best writers in the world books like it and the castle rock series are some of the greatest stories ever told but his best adaptations are always done by the best directors the shining was brilliantly interpreted by kubrick and of course the aforementioned misery and stand by me are both by rob reiner now frank darabont comes onto the scene and makes arguably the best king film ever he seems to understand what king wants to say and he conveys that beautifully what makes this film one of the best ever made is the message it conveys it is one of eternal hope andy dufresne played by tim robbins has been sent to prison for crime he did not commit but he never loses hope he never gives up his quest to become free man again his years of tenacity patience and wits keep him not only sane but it gives his mind and spirit will to live this film has different feel to it there has never been anything like it before and don know if there will again m not going to say any more about this film it has already been said but just suffice to say that am glad that forrest gump won best picture in  would have been equally glad if pulp fiction or shawshank would have won it is that good of movie and one that will be appreciated for years to come '],\n",
       " [' am good man ']]"
      ]
     },
     "execution_count": 125,
     "metadata": {},
     "output_type": "execute_result"
    }
   ],
   "source": [
    "temp2"
   ]
  },
  {
   "cell_type": "code",
   "execution_count": 126,
   "metadata": {},
   "outputs": [
    {
     "name": "stdout",
     "output_type": "stream",
     "text": [
      "1 - negative\n",
      "2 - positive\n",
      "3 - negative\n",
      "4 - positive\n",
      "5 - positive\n"
     ]
    }
   ],
   "source": [
    "c=1\n",
    "for j in temp2:\n",
    "    f=vector2.transform(j).toarray()\n",
    "    n=lr.predict(f)\n",
    "    if n>0.5:\n",
    "        print(c, '-', 'positive')\n",
    "    else:\n",
    "        print(c, '-', 'negative')\n",
    "    c+=1"
   ]
  },
  {
   "cell_type": "code",
   "execution_count": null,
   "metadata": {},
   "outputs": [],
   "source": [
    "\n"
   ]
  },
  {
   "cell_type": "code",
   "execution_count": null,
   "metadata": {},
   "outputs": [],
   "source": []
  },
  {
   "cell_type": "code",
   "execution_count": null,
   "metadata": {},
   "outputs": [],
   "source": []
  }
 ],
 "metadata": {
  "kernelspec": {
   "display_name": "Python 3",
   "language": "python",
   "name": "python3"
  },
  "language_info": {
   "codemirror_mode": {
    "name": "ipython",
    "version": 3
   },
   "file_extension": ".py",
   "mimetype": "text/x-python",
   "name": "python",
   "nbconvert_exporter": "python",
   "pygments_lexer": "ipython3",
   "version": "3.6.4"
  }
 },
 "nbformat": 4,
 "nbformat_minor": 2
}
